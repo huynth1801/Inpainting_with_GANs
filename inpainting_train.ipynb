{
 "cells": [
  {
   "cell_type": "code",
   "execution_count": 4,
   "id": "bfb70360",
   "metadata": {},
   "outputs": [],
   "source": [
    "from model.model import *\n",
    "\n",
    "\n",
    "nz = 100\n",
    "ngf = 64\n",
    "nc = 3\n",
    "ndf = 64\n",
    "batch_size = 64\n",
    "epochs = 1000\n",
    "lrG = 0.0002\n",
    "lrD = 0.0002\n",
    "beta1 = 0.5\n",
    "beta2 = 0.999\n",
    "image_size = 128\n",
    "data_root = \"data\"\n",
    "output_dir = \"output\"\n",
    "dataset = \"face\"\n",
    "model_name = \"DCGAN\""
   ]
  },
  {
   "cell_type": "code",
   "execution_count": 5,
   "id": "218f9867",
   "metadata": {},
   "outputs": [
    {
     "name": "stdout",
     "output_type": "stream",
     "text": [
      "cpu\n"
     ]
    }
   ],
   "source": [
    "device = torch.device(\"cuda\" if torch.cuda.is_available() else \"cpu\")\n",
    "print(device)"
   ]
  },
  {
   "cell_type": "code",
   "execution_count": null,
   "id": "cb96461d",
   "metadata": {},
   "outputs": [],
   "source": [
    "gan = DCGAN(nz, ngf, ndf, nc, batch_size, epochs, lrG, lrD, beta1, beta2, \\\n",
    "    image_size, dataroot, output_dir, dataset, model_name, gpu_mode=True)\n",
    "\n",
    "gan.train()"
   ]
  }
 ],
 "metadata": {
  "interpreter": {
   "hash": "071f83251836d5bb3918d2af6501aef1a588d685a567aa45f470f25864dd9495"
  },
  "kernelspec": {
   "display_name": "pytorch",
   "language": "python",
   "name": "python3"
  },
  "language_info": {
   "codemirror_mode": {
    "name": "ipython",
    "version": 3
   },
   "file_extension": ".py",
   "mimetype": "text/x-python",
   "name": "python",
   "nbconvert_exporter": "python",
   "pygments_lexer": "ipython3",
   "version": "3.8.12"
  }
 },
 "nbformat": 4,
 "nbformat_minor": 5
}
